{
 "cells": [
  {
   "cell_type": "code",
   "execution_count": 1,
   "metadata": {
    "Collapsed": "false"
   },
   "outputs": [],
   "source": [
    "import numpy as np\n",
    "from scipy.stats import gaussian_kde\n",
    "from scipy.interpolate import interp1d\n",
    "from scipy.interpolate import UnivariateSpline\n",
    "import h5py\n",
    "import astropy.cosmology as cosmo\n",
    "import astropy.units as u\n",
    "from astropy.cosmology import Planck15\n",
    "import matplotlib.pyplot as plt\n",
    "import json\n",
    "import glob\n",
    "import re"
   ]
  },
  {
   "cell_type": "markdown",
   "metadata": {
    "Collapsed": "false"
   },
   "source": [
    "We'll additionally be reweighting the default LALInference mass and redshift priors with more astrophysically-motivated priors. The LALInference prior is uniform in *luminosity* distance, and uniform in *detector-frame* component masses. This corresponds to:\n",
    "\n",
    "\\begin{equation}\n",
    "p_\\mathrm{lal}(z) \\propto (1+z)^2 D_L^2(z) \\left( D_c(z) + \\frac{c(1+z)}{H(z)}\\right),\n",
    "\\end{equation}\n",
    "\n",
    "where $D_L(z)$ and $D_c(z)$ are the luminosity and comoving distance at redshift $z$, respectively, and $H(z)$ is the Hubble parameter at $z$.\n",
    "\n",
    "We'll reweight to a prior that assumes the (source-frame) comoving merger rate density evolves as $(1+z)^{2.7}$\n",
    "\n",
    "\\begin{equation}\n",
    "p_\\mathrm{astro}(z) \\propto \\frac{1}{1+z} \\left(1+z\\right)^{2.7} \\frac{dV_c}{dz}\n",
    "\\end{equation}"
   ]
  },
  {
   "cell_type": "code",
   "execution_count": 4,
   "metadata": {
    "Collapsed": "false"
   },
   "outputs": [],
   "source": [
    "c = 3.0e8          # m/s\n",
    "H_0 = 67270.0      # m/s/MPc\n",
    "Omega_M = 0.3156 # unitless\n",
    "Omega_Lambda = 1.0-Omega_M\n",
    "\n",
    "def Hz(z):\n",
    "    return H_0*np.sqrt(Omega_M*(1.+z)**3.+Omega_Lambda)\n",
    "\n",
    "def calculate_pLAL(z, dl):\n",
    "    dc = dl/(1.+z) # comoving distance \n",
    "    pLAL = np.power(1.+z,2.)*np.power(dl,2.)*(dc+c*(1.+z)/Hz(z))\n",
    "    return pLAL\n",
    "\n",
    "def calculate_pASTRO(z, dl):\n",
    "    dc = dl/(1.+z) # comoving distance \n",
    "    dVc_dz = 4*np.pi*c*(dc**2.)/Hz(z) # comoving volume \n",
    "    pASTRO = np.power(1.+z,1.7)*dVc_dz\n",
    "    return pASTRO\n",
    "\n",
    "def Calculate_Xeff(m1, m2, a1, a2, costilt1, costilt2):\n",
    "    Xeff = (m1*a1*costilt1 + m2*a2*costilt2)/(m1+m2)\n",
    "    return Xeff"
   ]
  },
  {
   "cell_type": "markdown",
   "metadata": {
    "Collapsed": "false"
   },
   "source": [
    "For later use, we'll want to build an interpolant between luminosity distance and redshift:"
   ]
  },
  {
   "cell_type": "code",
   "execution_count": 5,
   "metadata": {
    "Collapsed": "false"
   },
   "outputs": [
    {
     "data": {
      "image/png": "[encoded data removed]",
      "text/plain": [
       "<Figure size 432x288 with 1 Axes>"
      ]
     },
     "metadata": {
      "needs_background": "light"
     },
     "output_type": "display_data"
    }
   ],
   "source": [
    "zs_ref = np.linspace(0.,3.,1000)\n",
    "DL_ref = Planck15.luminosity_distance(zs_ref).to(u.Mpc).value\n",
    "\n",
    "fig,ax = plt.subplots()\n",
    "ax.plot(zs_ref,DL_ref)\n",
    "ax.set_xlabel('Redshift')\n",
    "ax.set_ylabel('Luminosity Distance (Mpc)')\n",
    "plt.show()"
   ]
  },
  {
   "cell_type": "code",
   "execution_count": 6,
   "metadata": {
    "Collapsed": "false"
   },
   "outputs": [],
   "source": [
    "from scipy.special import spence as PL\n",
    "\n",
    "def Di(z):\n",
    "    return PL(1.-z+0j)\n",
    "\n",
    "def chi_effective_prior_from_isotropic_spins(q,aMax,xs):\n",
    "\n",
    "    # Ensure that `xs` is an array and take absolute value\n",
    "    xs = np.reshape(np.abs(xs),-1)\n",
    "\n",
    "    # Set up various piecewise cases\n",
    "    pdfs = np.zeros(xs.size,dtype=complex)\n",
    "    caseA = (xs<aMax*(1.-q)/(1.+q))*(xs<q*aMax/(1.+q))\n",
    "    caseB = (xs<aMax*(1.-q)/(1.+q))*(xs>=q*aMax/(1.+q))\n",
    "    caseC = (xs>=aMax*(1.-q)/(1.+q))*(xs<q*aMax/(1.+q))\n",
    "    caseD = (xs>=aMax*(1.-q)/(1.+q))*(xs<aMax/(1.+q))*(xs>=q*aMax/(1.+q))\n",
    "    caseE = (xs>=aMax*(1.-q)/(1.+q))*(xs>=aMax/(1.+q))*(xs<aMax)\n",
    "    caseF = (xs>=aMax)\n",
    "\n",
    "    # Select relevant effective spins\n",
    "    x_A = xs[caseA]\n",
    "    x_B = xs[caseB]\n",
    "    x_C = xs[caseC]\n",
    "    x_D = xs[caseD]\n",
    "    x_E = xs[caseE]\n",
    "\n",
    "    pdfs[caseA] = (1.+q)/(4.*q*aMax**2)*(\n",
    "                    q*aMax*(4.+2.*np.log(aMax) - np.log(q**2*aMax**2 - (1.+q)**2*x_A**2))\n",
    "                    - 2.*(1.+q)*x_A*np.arctanh((1.+q)*x_A/(q*aMax))\n",
    "                    + (1.+q)*x_A*(Di(-q*aMax/((1.+q)*x_A)) - Di(q*aMax/((1.+q)*x_A)))\n",
    "                    )\n",
    "\n",
    "    pdfs[caseB] = (1.+q)/(4.*q*aMax**2)*(\n",
    "                    4.*q*aMax\n",
    "                    + 2.*q*aMax*np.log(aMax)\n",
    "                    - 2.*(1.+q)*x_B*np.arctanh(q*aMax/((1.+q)*x_B))\n",
    "                    - q*aMax*np.log((1.+q)**2*x_B**2 - q**2*aMax**2)\n",
    "                    + (1.+q)*x_B*(Di(-q*aMax/((1.+q)*x_B)) - Di(q*aMax/((1.+q)*x_B)))\n",
    "                    )\n",
    "\n",
    "    pdfs[caseC] = (1.+q)/(4.*q*aMax**2)*(\n",
    "                    2.*(1.+q)*(aMax-x_C)\n",
    "                    - (1.+q)*x_C*np.log(aMax)**2.\n",
    "                    + (aMax + (1.+q)*x_C*np.log((1.+q)*x_C))*np.log(q*aMax/(aMax-(1.+q)*x_C))\n",
    "                    - (1.+q)*x_C*np.log(aMax)*(2. + np.log(q) - np.log(aMax-(1.+q)*x_C))\n",
    "                    + q*aMax*np.log(aMax/(q*aMax-(1.+q)*x_C))\n",
    "                    + (1.+q)*x_C*np.log((aMax-(1.+q)*x_C)*(q*aMax-(1.+q)*x_C)/q)\n",
    "                    + (1.+q)*x_C*(Di(1.-aMax/((1.+q)*x_C)) - Di(q*aMax/((1.+q)*x_C)))\n",
    "                    )\n",
    "\n",
    "    pdfs[caseD] = (1.+q)/(4.*q*aMax**2)*(\n",
    "                    -x_D*np.log(aMax)**2\n",
    "                    + 2.*(1.+q)*(aMax-x_D)\n",
    "                    + q*aMax*np.log(aMax/((1.+q)*x_D-q*aMax))\n",
    "                    + aMax*np.log(q*aMax/(aMax-(1.+q)*x_D))\n",
    "                    - x_D*np.log(aMax)*(2.*(1.+q) - np.log((1.+q)*x_D) - q*np.log((1.+q)*x_D/aMax))\n",
    "                    + (1.+q)*x_D*np.log((-q*aMax+(1.+q)*x_D)*(aMax-(1.+q)*x_D)/q)\n",
    "                    + (1.+q)*x_D*np.log(aMax/((1.+q)*x_D))*np.log((aMax-(1.+q)*x_D)/q)\n",
    "                    + (1.+q)*x_D*(Di(1.-aMax/((1.+q)*x_D)) - Di(q*aMax/((1.+q)*x_D)))\n",
    "                    )\n",
    "\n",
    "    pdfs[caseE] = (1.+q)/(4.*q*aMax**2)*(\n",
    "                    2.*(1.+q)*(aMax-x_E)\n",
    "                    - (1.+q)*x_E*np.log(aMax)**2\n",
    "                    + np.log(aMax)*(\n",
    "                        aMax\n",
    "                        -2.*(1.+q)*x_E\n",
    "                        -(1.+q)*x_E*np.log(q/((1.+q)*x_E-aMax))\n",
    "                        )\n",
    "                    - aMax*np.log(((1.+q)*x_E-aMax)/q)\n",
    "                    + (1.+q)*x_E*np.log(((1.+q)*x_E-aMax)*((1.+q)*x_E-q*aMax)/q)\n",
    "                    + (1.+q)*x_E*np.log((1.+q)*x_E)*np.log(q*aMax/((1.+q)*x_E-aMax))\n",
    "                    - q*aMax*np.log(((1.+q)*x_E-q*aMax)/aMax)\n",
    "                    + (1.+q)*x_E*(Di(1.-aMax/((1.+q)*x_E)) - Di(q*aMax/((1.+q)*x_E)))\n",
    "                    )\n",
    "\n",
    "    pdfs[caseF] = 0.\n",
    "\n",
    "    return np.real(pdfs)"
   ]
  },
  {
   "cell_type": "code",
   "execution_count": 7,
   "metadata": {
    "Collapsed": "false"
   },
   "outputs": [
    {
     "name": "stdout",
     "output_type": "stream",
     "text": [
      "##### GW151012\t3000\n",
      "0.9897470178991471 0.9896384391496096\n",
      "##### GW170608\t3000\n",
      "0.9889473441307614 0.9899857010578526\n",
      "##### GW170729\t3000\n",
      "0.9896893139819274 0.9899992906052512\n",
      "##### GW151226\t3000\n",
      "0.989634532239877 0.9898798923355079\n",
      "##### GW170814\t3000\n",
      "0.9951040516136314 0.9963946859887189\n",
      "##### GW150914\t3000\n",
      "0.9898524826445978 0.9898410498719866\n",
      "##### GW170104\t3000\n",
      "0.9898989966251264 0.9898231529527597\n",
      "##### GW170809\t3000\n",
      "0.9857757813170925 0.9892808094149222\n",
      "##### GW170818\t3000\n",
      "0.9895849147765335 0.9896471074071796\n",
      "##### GW170823\t3000\n",
      "0.9886574319099788 0.9898153957722852\n"
     ]
    }
   ],
   "source": [
    "O1O2_events = ['GW151012', 'GW170608', 'GW170729', 'GW151226', 'GW170814', 'GW150914', 'GW170104', 'GW170809', 'GW170818', 'GW170823']\n",
    "for key in O1O2_events:\n",
    "    \n",
    "    # load samples\n",
    "    BBH_post = h5py.File('GWTC-1_sample_release/{0}_GWTC-1.hdf5'.format(key), 'r')['Overall_posterior']\n",
    "    m1_DF = BBH_post['m1_detector_frame_Msun']\n",
    "    m2_DF = BBH_post['m2_detector_frame_Msun']\n",
    "    DL = BBH_post['luminosity_distance_Mpc']\n",
    "    a1 = BBH_post['spin1']\n",
    "    a2 = BBH_post['spin2']\n",
    "    cost1 = BBH_post['costilt1']\n",
    "    cost2 = BBH_post['costilt2']\n",
    "    Xeff = Calculate_Xeff(m1_DF,m2_DF,a1,a2,cost1,cost2)\n",
    "    \n",
    "    # Downselect to a reasonable number of samples\n",
    "    nSamps = min(3000,DL.size)\n",
    "    sampleDraws = np.random.choice(np.arange(DL.size),size=nSamps,replace=False)\n",
    "    m1_DF = m1_DF[sampleDraws]\n",
    "    m2_DF = m2_DF[sampleDraws]\n",
    "    DL = DL[sampleDraws]\n",
    "    Xeff = Xeff[sampleDraws]\n",
    "    a1 = a1[sampleDraws]\n",
    "    a2 = a2[sampleDraws]\n",
    "    cost1 = cost1[sampleDraws]\n",
    "    cost2 = cost2[sampleDraws]\n",
    "        \n",
    "    print(\"##### {0}\\t{1}\".format(key,nSamps))\n",
    "    \n",
    "    print(np.max(a1),np.max(a2))\n",
    "    \n",
    "    # Mass ratio\n",
    "    q = m2_DF/m1_DF\n",
    "    \n",
    "    Xeff_priors = np.zeros(q.size)\n",
    "    for i in range(q.size):\n",
    "        \n",
    "        #ref_xeff_ps = [interp(Xeff[i]) for interp in reference_chiEff_interps]\n",
    "        #xeff_1d = UnivariateSpline(reference_qs,ref_xeff_ps,k=3,s=0.1)\n",
    "        #Xeff_priors[i] = xeff_1d(q[i])\n",
    "        Xeff_priors[i] = chi_effective_prior_from_isotropic_spins(q[i],1.,Xeff[i])[0]\n",
    "\n",
    "    # Redshift and mass priors\n",
    "    z = np.interp(DL,DL_ref,zs_ref)\n",
    "    Dc = DL/(1.+z)\n",
    "    pAstro = calculate_pASTRO(z,DL)\n",
    "    pAstro[pAstro<0] = 0 # if pASTRO < 0, make pASTRO = 0\n",
    "    p_LAL = calculate_pLAL(z, DL)\n",
    "\n",
    "    weights = pAstro/p_LAL\n",
    "        \n",
    "    preprocDict = {'z':z,\\\n",
    "                        'weights':weights,\\\n",
    "                        'm1':m1_DF/(1.+z),\\\n",
    "                        'm2':m2_DF/(1.+z),\\\n",
    "                        'Xeff':Xeff,\\\n",
    "                        'Xeff_priors':Xeff_priors,\\\n",
    "                        'a1':a1,\\\n",
    "                        'a2':a2,\\\n",
    "                        'cost1':cost1,\\\n",
    "                        'cost2':cost2\n",
    "                       }\n",
    "    np.save('preprocessed-single-events-sanityCheck/{0}.npy'.format(key),preprocDict)"
   ]
  },
  {
   "cell_type": "markdown",
   "metadata": {
    "Collapsed": "false"
   },
   "source": [
    "Loop across O1 and O2 events. We'll want to compute and store:\n",
    "* Chi-effective posterior\n",
    "* Chi-p posterior\n",
    "* Chi-effective prior evaluated at posterior values\n",
    "* Chi-p prior evaluated at posterior values\n",
    "* Weights used to convert from LALInference to astrophysical mass/redshift priors"
   ]
  },
  {
   "cell_type": "code",
   "execution_count": 8,
   "metadata": {
    "Collapsed": "false"
   },
   "outputs": [],
   "source": [
    "O3_events = [\n",
    "'S190408an',\n",
    "'S190412m',\n",
    "'S190413ac',\n",
    "'S190413i',\n",
    "'S190421ar',\n",
    "'S190424ao',\n",
    "'S190503bf',\n",
    "'S190512at',\n",
    "'S190513bm',\n",
    "'S190514n',\n",
    "'S190517h',\n",
    "'S190519bj',\n",
    "'S190521g',\n",
    "'S190521r',\n",
    "'S190527w',\n",
    "'S190602aq',\n",
    "'S190620e',\n",
    "'S190630ag',\n",
    "'S190701ah',\n",
    "'S190706ai',\n",
    "'S190707q',\n",
    "'S190708ap',\n",
    "'S190720a',\n",
    "'S190727h',\n",
    "'S190728q',\n",
    "'S190731aa',\n",
    "'S190803e',\n",
    "'S190814bv',\n",
    "'S190828j',\n",
    "'S190828l',\n",
    "'S190910s',\n",
    "'S190915ak',\n",
    "'S190924h',\n",
    "'S190929d',\n",
    "'S190930s']"
   ]
  },
  {
   "cell_type": "code",
   "execution_count": 9,
   "metadata": {
    "Collapsed": "false"
   },
   "outputs": [],
   "source": [
    "with open('names.json','r') as jf:\n",
    "    mappings = json.load(jf)\n",
    "    \n",
    "S_to_AB = {v:k for k,v in mappings['SNAME'].items()}\n",
    "S_to_full = {k:mappings['FULLNAME'][v] for k,v in S_to_AB.items()}"
   ]
  },
  {
   "cell_type": "code",
   "execution_count": 10,
   "metadata": {
    "Collapsed": "false"
   },
   "outputs": [
    {
     "name": "stdout",
     "output_type": "stream",
     "text": [
      "0.9984527214224906 0.9994415584723371\n",
      "S190408an 3000\n",
      "0.9424569281527027 0.9998843213512595\n",
      "S190412m 3000\n",
      "0.9997272500676013 0.999971450037331\n",
      "S190413ac 3000\n",
      "0.9997497759882384 0.9999800113072943\n",
      "S190413i 3000\n",
      "0.9998056688330601 0.9999758090623824\n",
      "S190421ar 3000\n",
      "0.9999971585589158 0.9999783976365202\n",
      "S190424ao 3000\n",
      "0.9999384536184246 0.9998263607589885\n",
      "S190503bf 3000\n",
      "0.9982192887198766 0.9995412231342491\n",
      "S190512at 3000\n",
      "0.999915007960355 0.9999996986273785\n",
      "S190513bm 3000\n",
      "0.9997747696628614 0.9999892166529751\n",
      "S190514n 3000\n",
      "0.999986263962 0.999970706716\n",
      "S190517h 3000\n",
      "0.999979877196 0.999987442488\n",
      "S190519bj 3000\n",
      "0.9999985968 0.999953494555\n",
      "S190521g 3000\n",
      "0.999522296529 0.999551881323\n",
      "S190521r 3000\n",
      "0.9998091938904804 0.9999077402744292\n",
      "S190527w 3000\n",
      "0.99996269948 0.999992886019\n",
      "S190602aq 3000\n",
      "0.999994039925 0.999962414544\n",
      "S190620e 3000\n",
      "0.996685012466 0.999965785563\n",
      "S190630ag 3000\n",
      "0.999981208937 0.999992178649\n",
      "S190701ah 3000\n",
      "0.9999551042910001 0.999944920553\n",
      "S190706ai 3000\n",
      "0.9879590406347885 0.9985211430922734\n",
      "S190707q 3000\n",
      "0.991922771663638 0.9987833601735173\n",
      "S190708ap 3000\n",
      "0.9892158703987594 0.9998116995100671\n",
      "S190720a 3000\n",
      "0.9998797642656997 0.9999584709302516\n",
      "S190727h 3000\n",
      "0.8759531181347419 0.9997772960574538\n",
      "S190728q 3000\n",
      "0.9999369280620396 0.9997970301272281\n",
      "S190731aa 3000\n",
      "0.9998610341060162 0.999651130158319\n",
      "S190803e 3000\n",
      "0.18417025571816942 0.98992913640087\n",
      "S190814bv 3000\n",
      "0.999916033809 0.999958130252\n",
      "S190828j 3000\n",
      "0.9951198836130001 0.9999719441089999\n",
      "S190828l 3000\n",
      "0.9991365097518846 0.9999774545906888\n",
      "S190910s 3000\n",
      "0.9998585571398557 0.9999863880497971\n",
      "S190915ak 3000\n",
      "0.8579575715713267 0.9976963800524588\n",
      "S190924h 3000\n",
      "0.9996244922980002 0.999955464191\n",
      "S190929d 3000\n",
      "0.9808808798687481 0.9995423031409973\n",
      "S190930s 3000\n"
     ]
    }
   ],
   "source": [
    "sampleRelease = \"./all_posterior_samples\"\n",
    "for key in O3_events:\n",
    "        \n",
    "    # Load samples\n",
    "    f = h5py.File('{0}/{1}.h5'.format(sampleRelease,S_to_full[key]),'r')\n",
    "    BBH_post_samples = f['PrecessingSpinIMRHM']['posterior_samples']\n",
    "\n",
    "    m1_SF = np.squeeze(BBH_post_samples['mass_1_source'])\n",
    "    m2_SF = np.squeeze(BBH_post_samples['mass_2_source'])\n",
    "    DL = np.squeeze(BBH_post_samples['luminosity_distance'])\n",
    "    z = np.squeeze(BBH_post_samples['redshift'])\n",
    "    a1 = np.squeeze(BBH_post_samples['a_1'])\n",
    "    a2 = np.squeeze(BBH_post_samples['a_2'])\n",
    "    cost1 = np.squeeze(BBH_post_samples['cos_tilt_1'])\n",
    "    cost2 = np.squeeze(BBH_post_samples['cos_tilt_2'])\n",
    "    Xeff = Calculate_Xeff(m1_SF,m2_SF,a1,a2,cost1,cost2)\n",
    "    \n",
    "    print(np.max(a1),np.max(a2))\n",
    "\n",
    "    f.close()   \n",
    "            \n",
    "    # Downselect to a reasonable number of samples\n",
    "    nSamps = min(3000,DL.size)\n",
    "    sampleDraws = np.random.choice(np.arange(DL.size),size=nSamps,replace=False)\n",
    "    m1_SF = m1_SF[sampleDraws]\n",
    "    m2_SF = m2_SF[sampleDraws]\n",
    "    DL = DL[sampleDraws]\n",
    "    z = z[sampleDraws]\n",
    "    Xeff = Xeff[sampleDraws]\n",
    "    a1 = a1[sampleDraws]\n",
    "    a2 = a2[sampleDraws]\n",
    "    cost1 = cost1[sampleDraws]\n",
    "    cost2 = cost2[sampleDraws]\n",
    "    \n",
    "    print(key,nSamps)\n",
    "    \n",
    "    # Mass ratio\n",
    "    q = m2_SF/m1_SF\n",
    "    \n",
    "    Xeff_priors = np.zeros(q.size)\n",
    "    for i in range(q.size):\n",
    "        Xeff_priors[i] = chi_effective_prior_from_isotropic_spins(q[i],1.,Xeff[i])[0]\n",
    "\n",
    "    # Redshift and mass priors\n",
    "    Dc = DL/(1.+z)\n",
    "    pAstro = calculate_pASTRO(z,DL)\n",
    "    pAstro[pAstro<0] = 0 # if pASTRO < 0, make pASTRO = 0\n",
    "    p_LAL = calculate_pLAL(z, DL)\n",
    "\n",
    "    weights = pAstro/p_LAL\n",
    "    \n",
    "    preprocDict = {'z':z,\\\n",
    "                        'weights':weights,\\\n",
    "                        'm1':m1_SF,\\\n",
    "                        'm2':m2_SF,\\\n",
    "                        'Xeff':Xeff,\\\n",
    "                        'Xeff_priors':Xeff_priors,\\\n",
    "                        'a1':a1,\\\n",
    "                        'a2':a2,\\\n",
    "                        'cost1':cost1,\\\n",
    "                        'cost2':cost2\n",
    "                       }\n",
    "    np.save('preprocessed-single-events-sanityCheck/{0}.npy'.format(key),preprocDict)"
   ]
  },
  {
   "cell_type": "code",
   "execution_count": 11,
   "metadata": {
    "Collapsed": "false"
   },
   "outputs": [
    {
     "name": "stdout",
     "output_type": "stream",
     "text": [
      "44\n"
     ]
    }
   ],
   "source": [
    "sampleDict = {}\n",
    "singleEvents = glob.glob('./preprocessed-single-events-sanityCheck/*')\n",
    "for eventFile in singleEvents:\n",
    "    \n",
    "    key = re.split('\\/|\\.',eventFile)[-2]\n",
    "    if key!='S190814bv':\n",
    "        dataDict = np.load(eventFile,allow_pickle=True)[()]\n",
    "        sampleDict[key] = dataDict\n",
    "\n",
    "import pickle\n",
    "print(len(sampleDict))\n",
    "with open('sampleDict_sanityCheck.pickle','wb') as testfile:\n",
    "    pickle.dump(sampleDict,testfile,protocol=2)"
   ]
  },
  {
   "cell_type": "code",
   "execution_count": 12,
   "metadata": {
    "Collapsed": "false"
   },
   "outputs": [
    {
     "name": "stdout",
     "output_type": "stream",
     "text": [
      "45\n"
     ]
    }
   ],
   "source": [
    "sampleDict_w190814 = {}\n",
    "singleEvents = glob.glob('./preprocessed-single-events-sanityCheck/*')\n",
    "for eventFile in singleEvents:\n",
    "    \n",
    "    key = re.split('\\/|\\.',eventFile)[-2]\n",
    "    dataDict = np.load(eventFile,allow_pickle=True)[()]\n",
    "    sampleDict_w190814[key] = dataDict\n",
    "\n",
    "print(len(sampleDict_w190814))\n",
    "with open('sampleDict_w190814_sanityCheck.pickle','wb') as testfile:\n",
    "    pickle.dump(sampleDict_w190814,testfile,protocol=2)"
   ]
  },
  {
   "cell_type": "code",
   "execution_count": null,
   "metadata": {
    "Collapsed": "false"
   },
   "outputs": [],
   "source": []
  }
 ],
 "metadata": {
  "kernelspec": {
   "display_name": "igwn-py37",
   "language": "python",
   "name": "igwn-py37"
  },
  "language_info": {
   "codemirror_mode": {
    "name": "ipython",
    "version": 3
   },
   "file_extension": ".py",
   "mimetype": "text/x-python",
   "name": "python",
   "nbconvert_exporter": "python",
   "pygments_lexer": "ipython3",
   "version": "3.7.10"
  }
 },
 "nbformat": 4,
 "nbformat_minor": 4
}
