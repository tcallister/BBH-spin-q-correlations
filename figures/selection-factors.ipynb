{
 "cells": [
  {
   "cell_type": "code",
   "execution_count": 40,
   "metadata": {
    "Collapsed": "false"
   },
   "outputs": [],
   "source": [
    "import numpy as np\n",
    "import glob\n",
    "import emcee as mc\n",
    "import h5py\n",
    "import sys\n",
    "import matplotlib.pyplot as plt\n",
    "from matplotlib import rc\n",
    "\n",
    "sys.path.append(\"./../\")\n",
    "from support import *\n",
    "\n",
    "rc('font', **{'family': 'serif', 'serif': ['Computer Modern']})\n",
    "rc('text', usetex=True)"
   ]
  },
  {
   "cell_type": "code",
   "execution_count": 61,
   "metadata": {
    "Collapsed": "false"
   },
   "outputs": [
    {
     "name": "stderr",
     "output_type": "stream",
     "text": [
      "<ipython-input-61-8b9c17500f77>:19: H5pyDeprecationWarning: dataset.value has been deprecated. Use dataset[()] instead.\n",
      "  ifar_1 = mockDetections['injections']['ifar_gstlal'].value\n",
      "<ipython-input-61-8b9c17500f77>:20: H5pyDeprecationWarning: dataset.value has been deprecated. Use dataset[()] instead.\n",
      "  ifar_2 = mockDetections['injections']['ifar_pycbc_bbh'].value\n",
      "<ipython-input-61-8b9c17500f77>:21: H5pyDeprecationWarning: dataset.value has been deprecated. Use dataset[()] instead.\n",
      "  ifar_3 = mockDetections['injections']['ifar_pycbc_full'].value\n",
      "<ipython-input-61-8b9c17500f77>:23: H5pyDeprecationWarning: dataset.value has been deprecated. Use dataset[()] instead.\n",
      "  m1_det = mockDetections['injections']['mass1_source'].value[detected]\n",
      "<ipython-input-61-8b9c17500f77>:24: H5pyDeprecationWarning: dataset.value has been deprecated. Use dataset[()] instead.\n",
      "  m2_det = mockDetections['injections']['mass2_source'].value[detected]\n",
      "<ipython-input-61-8b9c17500f77>:25: H5pyDeprecationWarning: dataset.value has been deprecated. Use dataset[()] instead.\n",
      "  s1z_det = mockDetections['injections']['spin1z'].value[detected]\n",
      "<ipython-input-61-8b9c17500f77>:26: H5pyDeprecationWarning: dataset.value has been deprecated. Use dataset[()] instead.\n",
      "  s2z_det = mockDetections['injections']['spin2z'].value[detected]\n",
      "<ipython-input-61-8b9c17500f77>:27: H5pyDeprecationWarning: dataset.value has been deprecated. Use dataset[()] instead.\n",
      "  z_det = mockDetections['injections']['redshift'].value[detected]\n"
     ]
    }
   ],
   "source": [
    "# Prior boundaries\n",
    "priorDict = {\n",
    "    'lmbda':(-5,4),\n",
    "    'mMax':(60,100),\n",
    "    'm0':(20,100),\n",
    "    'sigM':(1,10),\n",
    "    'fPeak':(0,1),\n",
    "    'bq':(-2,10),\n",
    "    'sig_kappa':6.,\n",
    "    'mu0':(-1,1),\n",
    "    'log_sigma0':(-1.5,0.5),\n",
    "    'alpha':(-2.,1),\n",
    "    'beta':(-2,1.5),\n",
    "    'mMin':5.\n",
    "    }\n",
    "\n",
    "# Load mock detections\n",
    "mockDetections = h5py.File('/home/thomas.callister/RedshiftDistributions/BBH-spin-q-correlations/input/o3a_bbhpop_inj_info.hdf','r')\n",
    "ifar_1 = mockDetections['injections']['ifar_gstlal'].value\n",
    "ifar_2 = mockDetections['injections']['ifar_pycbc_bbh'].value\n",
    "ifar_3 = mockDetections['injections']['ifar_pycbc_full'].value\n",
    "detected = (ifar_1>1) + (ifar_2>1) + (ifar_3>1)\n",
    "m1_det = mockDetections['injections']['mass1_source'].value[detected]\n",
    "m2_det = mockDetections['injections']['mass2_source'].value[detected]\n",
    "s1z_det = mockDetections['injections']['spin1z'].value[detected]\n",
    "s2z_det = mockDetections['injections']['spin2z'].value[detected]\n",
    "z_det = mockDetections['injections']['redshift'].value[detected]\n",
    "\n",
    "mockDetectionsO1O2 = h5py.File('/home/thomas.callister/RedshiftDistributions/BBH-spin-q-correlations/input/injections_O1O2an_spin.h5','r')\n",
    "m1_det = np.append(m1_det,mockDetectionsO1O2['mass1_source'])\n",
    "m2_det = np.append(m2_det,mockDetectionsO1O2['mass2_source'])\n",
    "s1z_det = np.append(s1z_det,mockDetectionsO1O2['spin1z'])\n",
    "s2z_det = np.append(s2z_det,mockDetectionsO1O2['spin2z'])\n",
    "z_det = np.append(z_det,mockDetectionsO1O2['redshift'])\n",
    "\n",
    "pop_reweight = injection_weights(m1_det,m2_det,s1z_det,s2z_det,z_det,mMin=priorDict['mMin'])\n",
    "\n",
    "injectionDict = {\n",
    "        'm1':m1_det,\n",
    "        'm2':m2_det,\n",
    "        's1z':s1z_det,\n",
    "        's2z':s2z_det,\n",
    "        'z':z_det,\n",
    "        'weights':pop_reweight\n",
    "        }"
   ]
  },
  {
   "cell_type": "code",
   "execution_count": 62,
   "metadata": {
    "Collapsed": "false"
   },
   "outputs": [],
   "source": [
    "# Define parameters\n",
    "lmbda = -2.5\n",
    "mMax = 85.\n",
    "m0 = 33.\n",
    "sigM = 5.\n",
    "fPeak = 0.1\n",
    "bq = 1.1\n",
    "kappa = 1.5\n",
    "mu0 = 0.1\n",
    "log_sigma0 = -1.\n",
    "\n",
    "# Unpack injections\n",
    "m1_det = injectionDict['m1']\n",
    "m2_det = injectionDict['m2']\n",
    "s1z_det = injectionDict['s1z']\n",
    "s2z_det = injectionDict['s2z']\n",
    "z_det = injectionDict['z']\n",
    "pop_reweight = injectionDict['weights']\n",
    "q_det = m2_det/m1_det\n",
    "mtot_det = m1_det+m2_det\n",
    "X_det = (m1_det*s1z_det + m2_det*s2z_det)/(m1_det+m2_det)\n",
    "\n",
    "p_det_m2 = (1.+bq)*np.power(m2_det,bq)/(np.power(m1_det,1.+bq)-mMin**(1.+bq))\n",
    "p_det_z = np.power(1.+z_det,kappa-1.)\n",
    "\n",
    "# PLPeak distribution on p(m1)\n",
    "p_det_m1_pl = (1.+lmbda)*m1_det**lmbda/(mMax**(1.+lmbda) - mMin**(1.+lmbda))\n",
    "p_det_m1_pl[m1_det>mMax] = 0\n",
    "p_det_m1_peak = np.exp(-0.5*(m1_det-m0)**2./sigM**2)/np.sqrt(2.*np.pi*sigM**2.)\n",
    "p_det_m1 = fPeak*p_det_m1_peak + (1.-fPeak)*p_det_m1_pl\n",
    "\n",
    "mMin = priorDict['mMin']\n",
    "\n",
    "alphas = np.linspace(priorDict['alpha'][0],priorDict['alpha'][1],15)\n",
    "betas = np.linspace(priorDict['beta'][0],priorDict['beta'][1],16)\n",
    "log_Xi =  np.zeros((alphas.size,betas.size))\n",
    "log_Neff =  np.zeros((alphas.size,betas.size))\n",
    "\n",
    "for i,alpha in enumerate(alphas):\n",
    "    for ii,beta in enumerate(betas):\n",
    "\n",
    "        # Reweight injection probabilities\n",
    "        mu_q = mu0 + alpha*(q_det-0.5)\n",
    "        log_sigma_q = log_sigma0 + beta*(q_det-0.5)\n",
    "        p_det_Xeff = calculate_Gaussian(X_det, mu_q, 10.**(2.*log_sigma_q),-1.,1.)\n",
    "\n",
    "        # Construct full weighting factors\n",
    "        det_weights = p_det_Xeff*p_det_m1*p_det_m2*p_det_z*pop_reweight\n",
    "        det_weights[np.where(det_weights!=det_weights)] = 0.\n",
    "\n",
    "        nEvents = 44\n",
    "        log_Xi[i,ii] = np.log10(np.sum(det_weights))\n",
    "        log_Neff[i,ii] = np.log10(np.sum(det_weights)/np.max(det_weights))"
   ]
  },
  {
   "cell_type": "code",
   "execution_count": 63,
   "metadata": {
    "Collapsed": "false"
   },
   "outputs": [
    {
     "name": "stderr",
     "output_type": "stream",
     "text": [
      "<ipython-input-63-7e839f368370>:2: MatplotlibDeprecationWarning: shading='flat' when X and Y have the same dimensions as C is deprecated since 3.3.  Either specify the corners of the quadrilaterals with X and Y, or pass shading='auto', 'nearest' or 'gouraud', or set rcParams['pcolor.shading'].  This will become an error two minor releases later.\n",
      "  im = ax.pcolormesh(alphas,betas,10.**(log_Xi.T-np.min(log_Xi)),cmap='Blues')\n"
     ]
    },
    {
     "data": {
      "text/plain": [
       "Text(0, 0.5, '$\\\\beta$')"
      ]
     },
     "execution_count": 63,
     "metadata": {},
     "output_type": "execute_result"
    },
    {
     "data": {
      "image/png": "[encoded data removed]",
      "text/plain": [
       "<Figure size 432x288 with 2 Axes>"
      ]
     },
     "metadata": {
      "needs_background": "light"
     },
     "output_type": "display_data"
    }
   ],
   "source": [
    "fig,ax = plt.subplots()\n",
    "im = ax.pcolormesh(alphas,betas,10.**(log_Xi.T-np.min(log_Xi)),cmap='Blues')\n",
    "plt.colorbar(im,ax=ax,label=\"Relative Detection Efficiency\")\n",
    "ax.set_xlabel(r'$\\alpha$',fontsize=16)\n",
    "ax.set_ylabel(r'$\\beta$',fontsize=16)"
   ]
  },
  {
   "cell_type": "code",
   "execution_count": null,
   "metadata": {
    "Collapsed": "false"
   },
   "outputs": [],
   "source": []
  }
 ],
 "metadata": {
  "kernelspec": {
   "display_name": "igwn-py38",
   "language": "python",
   "name": "igwn-py38"
  },
  "language_info": {
   "codemirror_mode": {
    "name": "ipython",
    "version": 3
   },
   "file_extension": ".py",
   "mimetype": "text/x-python",
   "name": "python",
   "nbconvert_exporter": "python",
   "pygments_lexer": "ipython3",
   "version": "3.8.8"
  }
 },
 "nbformat": 4,
 "nbformat_minor": 4
}
